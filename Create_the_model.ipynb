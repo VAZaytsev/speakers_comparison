{
 "cells": [
  {
   "cell_type": "code",
   "execution_count": 1,
   "id": "cde91e2b",
   "metadata": {},
   "outputs": [],
   "source": [
    "import tensorflow as tf\n",
    "import numpy as np\n",
    "import sys"
   ]
  },
  {
   "cell_type": "code",
   "execution_count": 2,
   "id": "f038f6cf",
   "metadata": {},
   "outputs": [],
   "source": [
    "import EER_mod\n",
    "import read_mod"
   ]
  },
  {
   "cell_type": "code",
   "execution_count": 3,
   "id": "b69eaa33",
   "metadata": {},
   "outputs": [
    {
     "name": "stdout",
     "output_type": "stream",
     "text": [
      "speeches/19-198-0000.npy\n",
      "speeches/19-198-0001.npy\n",
      "speeches/19-198-0002.npy\n",
      "speeches/26-495-0000.npy\n",
      "speeches/26-495-0001.npy\n",
      "speeches/26-495-0002.npy\n",
      "speeches/27-123349-0000.npy\n",
      "speeches/27-123349-0001.npy\n",
      "speeches/27-123349-0002.npy\n",
      "speeches/32-21625-0000.npy\n",
      "speeches/32-21625-0001.npy\n",
      "speeches/32-21625-0002.npy\n",
      "speeches/39-121914-0000.npy\n",
      "speeches/39-121914-0001.npy\n",
      "speeches/39-121914-0002.npy\n",
      "speeches/40-121026-0000.npy\n",
      "speeches/40-121026-0001.npy\n",
      "speeches/40-121026-0002.npy\n",
      "speeches/60-121082-0000.npy\n",
      "speeches/60-121082-0001.npy\n",
      "speeches/60-121082-0002.npy\n",
      "speeches/78-368-0000.npy\n",
      "speeches/78-368-0001.npy\n",
      "speeches/78-368-0002.npy\n",
      "speeches/83-11691-0000.npy\n",
      "speeches/83-11691-0001.npy\n",
      "speeches/83-11691-0002.npy\n",
      "speeches/87-121553-0000.npy\n",
      "speeches/87-121553-0001.npy\n",
      "speeches/87-121553-0002.npy\n"
     ]
    },
    {
     "data": {
      "text/plain": [
       "0"
      ]
     },
     "execution_count": 3,
     "metadata": {},
     "output_type": "execute_result"
    }
   ],
   "source": [
    "# provide the file with the speeches passed trough openl3 in .npy format\n",
    "fl_inp = open('S10_sp3_for_model.txt','r')\n",
    "\n",
    "# The content of this file is following\n",
    "for l in fl_inp.readlines():\n",
    "    print(l.strip())\n",
    "fl_inp.seek(0)"
   ]
  },
  {
   "cell_type": "code",
   "execution_count": 4,
   "id": "d25dff74",
   "metadata": {},
   "outputs": [],
   "source": [
    "# load .npy files and create labels from the names of the files\n",
    "# the number before the '-' sighn stands for the speaker, e.g.,\n",
    "# in 19-xxxx-xxx.npy, 19 stands for the speaker's ID\n",
    "n_S, n_speeches, emb, labels = read_mod.read_speeches(fl_inp)\n",
    "n_data = len(labels)"
   ]
  },
  {
   "cell_type": "code",
   "execution_count": 5,
   "id": "673c04cb",
   "metadata": {},
   "outputs": [
    {
     "name": "stdout",
     "output_type": "stream",
     "text": [
      "number of neurons in the input layer =  6144\n"
     ]
    }
   ],
   "source": [
    "# neurons in the input layer\n",
    "n_in = emb.shape[1]\n",
    "print('number of neurons in the input layer = ', emb.shape[1])"
   ]
  },
  {
   "cell_type": "code",
   "execution_count": 6,
   "id": "83a40845",
   "metadata": {},
   "outputs": [],
   "source": [
    "# shuffle data\n",
    "rand_perm = np.arange(n_data)\n",
    "np.random.shuffle( rand_perm )\n",
    "labels = labels[rand_perm]\n",
    "emb = emb[rand_perm]"
   ]
  },
  {
   "cell_type": "code",
   "execution_count": 7,
   "id": "9f0d247f",
   "metadata": {},
   "outputs": [
    {
     "name": "stdout",
     "output_type": "stream",
     "text": [
      "size of the testing set =  350\n",
      "size of the training set =  3158\n"
     ]
    }
   ],
   "source": [
    "# divide into training and test sets\n",
    "# The training set is 10% from the whole set\n",
    "n_test = int(n_data * 0.1)\n",
    "print('size of the testing set = ', n_test)\n",
    "\n",
    "labels_test = labels[:n_test]\n",
    "data_test = emb[:n_test,:]\n",
    "\n",
    "labels_train = labels[n_test:]\n",
    "data_train = emb[n_test:,:]\n",
    "\n",
    "print('size of the training set = ', labels_train.shape[0])"
   ]
  },
  {
   "cell_type": "code",
   "execution_count": 8,
   "id": "0f50ffe3",
   "metadata": {},
   "outputs": [
    {
     "name": "stdout",
     "output_type": "stream",
     "text": [
      "Epoch 1/20\n",
      "99/99 - 2s - loss: 4.9581 - accuracy: 0.4785 - 2s/epoch - 17ms/step\n",
      "Epoch 2/20\n",
      "99/99 - 1s - loss: 0.4893 - accuracy: 0.8838 - 1s/epoch - 14ms/step\n",
      "Epoch 3/20\n",
      "99/99 - 1s - loss: 0.2357 - accuracy: 0.9531 - 1s/epoch - 14ms/step\n",
      "Epoch 4/20\n",
      "99/99 - 1s - loss: 0.1233 - accuracy: 0.9870 - 1s/epoch - 13ms/step\n",
      "Epoch 5/20\n",
      "99/99 - 2s - loss: 0.0693 - accuracy: 0.9962 - 2s/epoch - 16ms/step\n",
      "Epoch 6/20\n",
      "99/99 - 1s - loss: 0.0483 - accuracy: 0.9991 - 1s/epoch - 15ms/step\n",
      "Epoch 7/20\n",
      "99/99 - 1s - loss: 0.0427 - accuracy: 0.9991 - 1s/epoch - 14ms/step\n",
      "Epoch 8/20\n",
      "99/99 - 1s - loss: 0.0312 - accuracy: 0.9987 - 1s/epoch - 14ms/step\n",
      "Epoch 9/20\n",
      "99/99 - 1s - loss: 0.0238 - accuracy: 1.0000 - 1s/epoch - 13ms/step\n",
      "Epoch 10/20\n",
      "99/99 - 1s - loss: 0.0176 - accuracy: 0.9997 - 1s/epoch - 13ms/step\n",
      "Epoch 11/20\n",
      "99/99 - 1s - loss: 0.0150 - accuracy: 0.9997 - 1s/epoch - 13ms/step\n",
      "Epoch 12/20\n",
      "99/99 - 1s - loss: 0.0117 - accuracy: 1.0000 - 1s/epoch - 13ms/step\n",
      "Epoch 13/20\n",
      "99/99 - 1s - loss: 0.0110 - accuracy: 1.0000 - 1s/epoch - 13ms/step\n",
      "Epoch 14/20\n",
      "99/99 - 1s - loss: 0.0080 - accuracy: 1.0000 - 1s/epoch - 13ms/step\n",
      "Epoch 15/20\n",
      "99/99 - 1s - loss: 0.0072 - accuracy: 1.0000 - 1s/epoch - 13ms/step\n",
      "Epoch 16/20\n",
      "99/99 - 1s - loss: 0.0061 - accuracy: 1.0000 - 1s/epoch - 13ms/step\n",
      "Epoch 17/20\n",
      "99/99 - 1s - loss: 0.0053 - accuracy: 1.0000 - 1s/epoch - 13ms/step\n",
      "Epoch 18/20\n",
      "99/99 - 1s - loss: 0.0045 - accuracy: 1.0000 - 1s/epoch - 13ms/step\n",
      "Epoch 19/20\n",
      "99/99 - 1s - loss: 0.0044 - accuracy: 1.0000 - 1s/epoch - 13ms/step\n",
      "Epoch 20/20\n",
      "99/99 - 1s - loss: 0.0038 - accuracy: 1.0000 - 1s/epoch - 13ms/step\n"
     ]
    },
    {
     "data": {
      "text/plain": [
       "<keras.callbacks.History at 0x7fe3a81e69d0>"
      ]
     },
     "execution_count": 8,
     "metadata": {},
     "output_type": "execute_result"
    }
   ],
   "source": [
    "# Construct the model with only 1 hidden layer\n",
    "n_hidden = 512\n",
    "model = tf.keras.Sequential([\n",
    "    tf.keras.layers.Dense(n_hidden, activation='relu'),\n",
    "    tf.keras.layers.Dense(n_S)\n",
    "])\n",
    "\n",
    "\n",
    "# Compile the model\n",
    "model.compile(optimizer='adam',\n",
    "              loss=tf.keras.losses.SparseCategoricalCrossentropy(from_logits=True),\n",
    "              metrics=['accuracy'])\n",
    "\n",
    "# Train the model\n",
    "epochs=20\n",
    "model.fit(data_train, \n",
    "          labels_train, \n",
    "          epochs=epochs,\n",
    "          verbose=2)"
   ]
  },
  {
   "cell_type": "code",
   "execution_count": 9,
   "id": "63b659ac",
   "metadata": {},
   "outputs": [
    {
     "name": "stdout",
     "output_type": "stream",
     "text": [
      "11/11 [==============================] - 0s 5ms/step - loss: 0.0249 - accuracy: 0.9943\n",
      "test_loss =  0.024889269843697548\n",
      "test_loss =  0.9942857027053833\n"
     ]
    }
   ],
   "source": [
    "# Test the model\n",
    "test_loss, test_acc = model.evaluate(data_test,  labels_test)\n",
    "print('test_loss = ', test_loss)\n",
    "print('test_loss = ', test_acc)"
   ]
  },
  {
   "cell_type": "code",
   "execution_count": 11,
   "id": "50cef8e6",
   "metadata": {},
   "outputs": [
    {
     "name": "stdout",
     "output_type": "stream",
     "text": [
      "INFO:tensorflow:Assets written to: model_S10_speeches30/assets\n"
     ]
    }
   ],
   "source": [
    "# Create the new model for features extracting \n",
    "# from the layer before the last one\n",
    "new_model = tf.keras.Model(inputs=model.input,\n",
    "                           outputs=model.layers[-2].output)\n",
    "\n",
    "# save new model for usage in speakers comparison\n",
    "model_name = 'model_S' + str(n_S) + '_speeches' + str(n_speeches)\n",
    "model.save(model_name)"
   ]
  },
  {
   "cell_type": "code",
   "execution_count": 12,
   "id": "794ced96",
   "metadata": {},
   "outputs": [
    {
     "name": "stdout",
     "output_type": "stream",
     "text": [
      "11/11 [==============================] - 0s 5ms/step\n",
      "EER =   3.1 %\n",
      "Threshold =   0.981\n"
     ]
    }
   ],
   "source": [
    "# Calculate EER on the test set\n",
    "# all data points from the test set will be compared with each other\n",
    "hidden_layer_pred = new_model.predict(data_test)\n",
    "\n",
    "\n",
    "EER, thres = EER_mod.EER(hidden_layer_pred, labels_test)\n",
    "print('EER = ', f'{EER*100: .1f}','%')\n",
    "print('Threshold = ', f'{thres: .3f}')"
   ]
  },
  {
   "cell_type": "code",
   "execution_count": 13,
   "id": "c58bf5fe",
   "metadata": {},
   "outputs": [],
   "source": [
    "# The name of the model, threshold, and list of speeches, \n",
    "# which were used for training are saved\n",
    "\n",
    "fl_model = open(model_name+'.dat','w')\n",
    "print('model_name = ', model_name, file = fl_model)\n",
    "print('thres = ', thres, file = fl_model)\n",
    "\n",
    "\n",
    "fl_inp.seek(0)\n",
    "for speech in fl_inp.readlines():\n",
    "    print('speech = ', speech.strip(), file = fl_model)"
   ]
  },
  {
   "cell_type": "code",
   "execution_count": null,
   "id": "eb4be542",
   "metadata": {},
   "outputs": [],
   "source": []
  }
 ],
 "metadata": {
  "kernelspec": {
   "display_name": "Python 3",
   "language": "python",
   "name": "python3"
  },
  "language_info": {
   "codemirror_mode": {
    "name": "ipython",
    "version": 3
   },
   "file_extension": ".py",
   "mimetype": "text/x-python",
   "name": "python",
   "nbconvert_exporter": "python",
   "pygments_lexer": "ipython3",
   "version": "3.8.8"
  }
 },
 "nbformat": 4,
 "nbformat_minor": 5
}
