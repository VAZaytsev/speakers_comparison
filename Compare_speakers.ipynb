{
 "cells": [
  {
   "cell_type": "code",
   "execution_count": 1,
   "id": "a66be3ea",
   "metadata": {},
   "outputs": [],
   "source": [
    "import tensorflow as tf\n",
    "import numpy as np\n",
    "import sys"
   ]
  },
  {
   "cell_type": "code",
   "execution_count": 2,
   "id": "21575d80",
   "metadata": {},
   "outputs": [],
   "source": [
    "import EER_mod\n",
    "import read_mod"
   ]
  },
  {
   "cell_type": "code",
   "execution_count": 3,
   "id": "d5416afa",
   "metadata": {},
   "outputs": [
    {
     "name": "stdout",
     "output_type": "stream",
     "text": [
      "model_name =  model_S10_speeches30\n",
      "thres =  0.9737797975540161\n",
      "speech =  speeches/19-198-0000.npy\n",
      "speech =  speeches/19-198-0001.npy\n",
      "speech =  speeches/19-198-0002.npy\n",
      "speech =  speeches/26-495-0000.npy\n",
      "speech =  speeches/26-495-0001.npy\n",
      "speech =  speeches/26-495-0002.npy\n",
      "speech =  speeches/27-123349-0000.npy\n",
      "speech =  speeches/27-123349-0001.npy\n",
      "speech =  speeches/27-123349-0002.npy\n",
      "speech =  speeches/32-21625-0000.npy\n",
      "speech =  speeches/32-21625-0001.npy\n",
      "speech =  speeches/32-21625-0002.npy\n",
      "speech =  speeches/39-121914-0000.npy\n",
      "speech =  speeches/39-121914-0001.npy\n",
      "speech =  speeches/39-121914-0002.npy\n",
      "speech =  speeches/40-121026-0000.npy\n",
      "speech =  speeches/40-121026-0001.npy\n",
      "speech =  speeches/40-121026-0002.npy\n",
      "speech =  speeches/60-121082-0000.npy\n",
      "speech =  speeches/60-121082-0001.npy\n",
      "speech =  speeches/60-121082-0002.npy\n",
      "speech =  speeches/78-368-0000.npy\n",
      "speech =  speeches/78-368-0001.npy\n",
      "speech =  speeches/78-368-0002.npy\n",
      "speech =  speeches/83-11691-0000.npy\n",
      "speech =  speeches/83-11691-0001.npy\n",
      "speech =  speeches/83-11691-0002.npy\n",
      "speech =  speeches/87-121553-0000.npy\n",
      "speech =  speeches/87-121553-0001.npy\n",
      "speech =  speeches/87-121553-0002.npy\n"
     ]
    },
    {
     "data": {
      "text/plain": [
       "0"
      ]
     },
     "execution_count": 3,
     "metadata": {},
     "output_type": "execute_result"
    }
   ],
   "source": [
    "# Provide the file with the information about the model to be used\n",
    "fl_model = open('model_S10_speeches30.dat','r')\n",
    "\n",
    "for l in fl_model.readlines():\n",
    "    print(l.strip())\n",
    "    \n",
    "fl_model.seek(0)"
   ]
  },
  {
   "cell_type": "code",
   "execution_count": 4,
   "id": "8157d427",
   "metadata": {},
   "outputs": [
    {
     "name": "stdout",
     "output_type": "stream",
     "text": [
      "speeches/19-198-0002.npy\n",
      "speeches/19-198-0003.npy\n",
      "speeches/19-198-0004.npy\n",
      "speeches/26-495-0003.npy\n",
      "speeches/26-495-0005.npy\n",
      "speeches/27-123349-0003.npy\n",
      "speeches/27-123349-0006.npy\n",
      "speeches/89-218-0001.npy\n",
      "speeches/89-218-0002.npy\n",
      "speeches/103-1240-0001.npy\n",
      "speeches/103-1240-0002.npy\n",
      "speeches/118-121721-0001.npy\n",
      "speeches/118-121721-0002.npy\n"
     ]
    },
    {
     "data": {
      "text/plain": [
       "0"
      ]
     },
     "execution_count": 4,
     "metadata": {},
     "output_type": "execute_result"
    }
   ],
   "source": [
    "# Provide the file with the speeches of the speakers to be compared\n",
    "fl_speeches = open('file_speeches.txt','r')\n",
    "\n",
    "for l in fl_speeches.readlines():\n",
    "    print(l.strip())\n",
    "    \n",
    "fl_speeches.seek(0)"
   ]
  },
  {
   "cell_type": "code",
   "execution_count": 5,
   "id": "31b2e9f9",
   "metadata": {},
   "outputs": [
    {
     "name": "stdout",
     "output_type": "stream",
     "text": [
      "Known speakers are ['19', '26', '27', '32', '39', '40', '60', '78', '83', '87']\n",
      "\u001b[42m0019\u001b[0m-\u001b[42m000198\u001b[0m-\u001b[42m0002\u001b[0m\n",
      "\u001b[42m0019\u001b[0m-000198-0003\n",
      "\u001b[42m0019\u001b[0m-000198-0004\n",
      "\u001b[42m0026\u001b[0m-000495-0003\n",
      "\u001b[42m0026\u001b[0m-000495-0005\n",
      "\u001b[42m0027\u001b[0m-123349-0003\n",
      "\u001b[42m0027\u001b[0m-123349-0006\n",
      "0089-000218-0001\n",
      "0089-000218-0002\n",
      "0103-001240-0001\n",
      "0103-001240-0002\n",
      "0118-121721-0001\n",
      "0118-121721-0002\n"
     ]
    }
   ],
   "source": [
    "# Load the model, threshold, speeches, labels, and some usefull information\n",
    "model_name, thres, speeches, indx_i_f, labels = read_mod.read_model(fl_model, fl_speeches)\n",
    "\n",
    "# Known speakers and speeches are highlighted with green"
   ]
  },
  {
   "cell_type": "code",
   "execution_count": 8,
   "id": "aaeb8428",
   "metadata": {},
   "outputs": [],
   "source": [
    "# load model\n",
    "model = tf.keras.models.load_model(model_name)\n",
    "\n",
    "# Concatenate speeches and create feature vectors for them\n",
    "data = np.concatenate(speeches)\n",
    "\n",
    "# Get predictions\n",
    "features = model.predict(data, verbose=0)\n",
    "\n",
    "# Average features\n",
    "# Alternatively, one can try to compare the averaged outputs from openl3\n",
    "n_sp = len( speeches )\n",
    "\n",
    "av_emb = []\n",
    "for i in range(n_sp):\n",
    "    av_emb.append( np.average(features[indx_i_f[i][0]:indx_i_f[i][1]+1,:],axis=0) )"
   ]
  },
  {
   "cell_type": "code",
   "execution_count": 10,
   "id": "a9968dff",
   "metadata": {},
   "outputs": [
    {
     "name": "stdout",
     "output_type": "stream",
     "text": [
      "\n",
      "Threshold =   0.974\n",
      "\u001b[42m0019\u001b[0m-\u001b[42m000198\u001b[0m-\u001b[42m0002\u001b[0m    \u001b[42m0019\u001b[0m-000198-0003  0.997 same\n",
      "\u001b[42m0019\u001b[0m-\u001b[42m000198\u001b[0m-\u001b[42m0002\u001b[0m    \u001b[42m0019\u001b[0m-000198-0004  0.977 same\n",
      "\u001b[42m0019\u001b[0m-\u001b[42m000198\u001b[0m-\u001b[42m0002\u001b[0m    \u001b[42m0026\u001b[0m-000495-0003  0.267 diff\n",
      "\u001b[42m0019\u001b[0m-\u001b[42m000198\u001b[0m-\u001b[42m0002\u001b[0m    \u001b[42m0026\u001b[0m-000495-0005  0.351 diff\n",
      "\u001b[42m0019\u001b[0m-\u001b[42m000198\u001b[0m-\u001b[42m0002\u001b[0m    \u001b[42m0027\u001b[0m-123349-0003  0.252 diff\n",
      "\u001b[42m0019\u001b[0m-\u001b[42m000198\u001b[0m-\u001b[42m0002\u001b[0m    \u001b[42m0027\u001b[0m-123349-0006  0.237 diff\n",
      "\u001b[42m0019\u001b[0m-\u001b[42m000198\u001b[0m-\u001b[42m0002\u001b[0m    0089-000218-0001  0.907 diff\n",
      "\u001b[42m0019\u001b[0m-\u001b[42m000198\u001b[0m-\u001b[42m0002\u001b[0m    0089-000218-0002  0.939 diff\n",
      "\u001b[42m0019\u001b[0m-\u001b[42m000198\u001b[0m-\u001b[42m0002\u001b[0m    0103-001240-0001  0.807 diff\n",
      "\u001b[42m0019\u001b[0m-\u001b[42m000198\u001b[0m-\u001b[42m0002\u001b[0m    0103-001240-0002  0.841 diff\n",
      "\u001b[42m0019\u001b[0m-\u001b[42m000198\u001b[0m-\u001b[42m0002\u001b[0m    0118-121721-0001  0.760 diff\n",
      "\u001b[42m0019\u001b[0m-\u001b[42m000198\u001b[0m-\u001b[42m0002\u001b[0m    0118-121721-0002  0.741 diff\n",
      "\u001b[42m0019\u001b[0m-000198-0003    \u001b[42m0019\u001b[0m-000198-0004  0.989 same\n",
      "\u001b[42m0019\u001b[0m-000198-0003    \u001b[42m0026\u001b[0m-000495-0003  0.288 diff\n",
      "\u001b[42m0019\u001b[0m-000198-0003    \u001b[42m0026\u001b[0m-000495-0005  0.373 diff\n",
      "\u001b[42m0019\u001b[0m-000198-0003    \u001b[42m0027\u001b[0m-123349-0003  0.297 diff\n",
      "\u001b[42m0019\u001b[0m-000198-0003    \u001b[42m0027\u001b[0m-123349-0006  0.281 diff\n",
      "\u001b[42m0019\u001b[0m-000198-0003    0089-000218-0001  0.915 diff\n",
      "\u001b[42m0019\u001b[0m-000198-0003    0089-000218-0002  0.947 diff\n",
      "\u001b[42m0019\u001b[0m-000198-0003    0103-001240-0001  0.837 diff\n",
      "\u001b[42m0019\u001b[0m-000198-0003    0103-001240-0002  0.866 diff\n",
      "\u001b[42m0019\u001b[0m-000198-0003    0118-121721-0001  0.802 diff\n",
      "\u001b[42m0019\u001b[0m-000198-0003    0118-121721-0002  0.787 diff\n",
      "\u001b[42m0019\u001b[0m-000198-0004    \u001b[42m0026\u001b[0m-000495-0003  0.278 diff\n",
      "\u001b[42m0019\u001b[0m-000198-0004    \u001b[42m0026\u001b[0m-000495-0005  0.364 diff\n",
      "\u001b[42m0019\u001b[0m-000198-0004    \u001b[42m0027\u001b[0m-123349-0003  0.325 diff\n",
      "\u001b[42m0019\u001b[0m-000198-0004    \u001b[42m0027\u001b[0m-123349-0006  0.307 diff\n",
      "\u001b[42m0019\u001b[0m-000198-0004    0089-000218-0001  0.917 diff\n",
      "\u001b[42m0019\u001b[0m-000198-0004    0089-000218-0002  0.945 diff\n",
      "\u001b[42m0019\u001b[0m-000198-0004    0103-001240-0001  0.850 diff\n",
      "\u001b[42m0019\u001b[0m-000198-0004    0103-001240-0002  0.868 diff\n",
      "\u001b[42m0019\u001b[0m-000198-0004    0118-121721-0001  0.838 diff\n",
      "\u001b[42m0019\u001b[0m-000198-0004    0118-121721-0002  0.829 diff\n",
      "\u001b[42m0026\u001b[0m-000495-0003    \u001b[42m0026\u001b[0m-000495-0005  0.994 same\n",
      "\u001b[42m0026\u001b[0m-000495-0003    \u001b[42m0027\u001b[0m-123349-0003  0.876 diff\n",
      "\u001b[42m0026\u001b[0m-000495-0003    \u001b[42m0027\u001b[0m-123349-0006  0.897 diff\n",
      "\u001b[42m0026\u001b[0m-000495-0003    0089-000218-0001  0.289 diff\n",
      "\u001b[42m0026\u001b[0m-000495-0003    0089-000218-0002  0.413 diff\n",
      "\u001b[42m0026\u001b[0m-000495-0003    0103-001240-0001  0.589 diff\n",
      "\u001b[42m0026\u001b[0m-000495-0003    0103-001240-0002  0.561 diff\n",
      "\u001b[42m0026\u001b[0m-000495-0003    0118-121721-0001  0.489 diff\n",
      "\u001b[42m0026\u001b[0m-000495-0003    0118-121721-0002  0.456 diff\n",
      "\u001b[42m0026\u001b[0m-000495-0005    \u001b[42m0027\u001b[0m-123349-0003  0.885 diff\n",
      "\u001b[42m0026\u001b[0m-000495-0005    \u001b[42m0027\u001b[0m-123349-0006  0.906 diff\n",
      "\u001b[42m0026\u001b[0m-000495-0005    0089-000218-0001  0.366 diff\n",
      "\u001b[42m0026\u001b[0m-000495-0005    0089-000218-0002  0.488 diff\n",
      "\u001b[42m0026\u001b[0m-000495-0005    0103-001240-0001  0.651 diff\n",
      "\u001b[42m0026\u001b[0m-000495-0005    0103-001240-0002  0.625 diff\n",
      "\u001b[42m0026\u001b[0m-000495-0005    0118-121721-0001  0.561 diff\n",
      "\u001b[42m0026\u001b[0m-000495-0005    0118-121721-0002  0.530 diff\n",
      "\u001b[42m0027\u001b[0m-123349-0003    \u001b[42m0027\u001b[0m-123349-0006  0.997 same\n",
      "\u001b[42m0027\u001b[0m-123349-0003    0089-000218-0001  0.242 diff\n",
      "\u001b[42m0027\u001b[0m-123349-0003    0089-000218-0002  0.380 diff\n",
      "\u001b[42m0027\u001b[0m-123349-0003    0103-001240-0001  0.600 diff\n",
      "\u001b[42m0027\u001b[0m-123349-0003    0103-001240-0002  0.548 diff\n",
      "\u001b[42m0027\u001b[0m-123349-0003    0118-121721-0001  0.588 diff\n",
      "\u001b[42m0027\u001b[0m-123349-0003    0118-121721-0002  0.583 diff\n",
      "\u001b[42m0027\u001b[0m-123349-0006    0089-000218-0001  0.240 diff\n",
      "\u001b[42m0027\u001b[0m-123349-0006    0089-000218-0002  0.372 diff\n",
      "\u001b[42m0027\u001b[0m-123349-0006    0103-001240-0001  0.605 diff\n",
      "\u001b[42m0027\u001b[0m-123349-0006    0103-001240-0002  0.554 diff\n",
      "\u001b[42m0027\u001b[0m-123349-0006    0118-121721-0001  0.588 diff\n",
      "\u001b[42m0027\u001b[0m-123349-0006    0118-121721-0002  0.582 diff\n",
      "0089-000218-0001    0089-000218-0002  0.980 same\n",
      "0089-000218-0001    0103-001240-0001  0.849 diff\n",
      "0089-000218-0001    0103-001240-0002  0.859 diff\n",
      "0089-000218-0001    0118-121721-0001  0.848 diff\n",
      "0089-000218-0001    0118-121721-0002  0.824 diff\n",
      "0089-000218-0002    0103-001240-0001  0.884 diff\n",
      "0089-000218-0002    0103-001240-0002  0.893 diff\n",
      "0089-000218-0002    0118-121721-0001  0.864 diff\n",
      "0089-000218-0002    0118-121721-0002  0.838 diff\n",
      "0103-001240-0001    0103-001240-0002  0.994 same\n",
      "0103-001240-0001    0118-121721-0001  0.959 diff\n",
      "0103-001240-0001    0118-121721-0002  0.938 diff\n",
      "0103-001240-0002    0118-121721-0001  0.943 diff\n",
      "0103-001240-0002    0118-121721-0002  0.921 diff\n",
      "0118-121721-0001    0118-121721-0002  0.997 same\n"
     ]
    }
   ],
   "source": [
    "# Compare speakers\n",
    "print('\\nThreshold = ', f'{thres: .3f}')\n",
    "for i in range(n_sp):\n",
    "    for j in range(i+1, n_sp):\n",
    "        cos_av = EER_mod.cos_dist(av_emb[i], av_emb[j])\n",
    "        \n",
    "        answer = cos_av > thres\n",
    "        correct_answer = labels[i].split('-')[0] == labels[j].split('-')[0]\n",
    "\n",
    "        if answer == correct_answer:\n",
    "            if answer:\n",
    "                print(labels[i], '  ', labels[j], f'{cos_av: .3f}', 'same')\n",
    "            else:\n",
    "                print(labels[i], '  ', labels[j], f'{cos_av: .3f}', 'diff')\n",
    "        else:\n",
    "            if answer:\n",
    "                print(labels[i], '  ', labels[j], f'{cos_av: .3f}', 'same', \n",
    "                      '\\033[97;41m' + 'WRONG!!!' + '\\033[0m')\n",
    "            else:\n",
    "                print(labels[i], '  ', labels[j], f'{cos_av: .3f}', 'diff', \n",
    "                      '\\033[97;41m' + 'WRONG!!!' + '\\033[0m')"
   ]
  },
  {
   "cell_type": "markdown",
   "id": "fda0f337",
   "metadata": {},
   "source": [
    "All speeches were identified correctly."
   ]
  },
  {
   "cell_type": "code",
   "execution_count": null,
   "id": "fa2bafde",
   "metadata": {},
   "outputs": [],
   "source": []
  }
 ],
 "metadata": {
  "kernelspec": {
   "display_name": "Python 3",
   "language": "python",
   "name": "python3"
  },
  "language_info": {
   "codemirror_mode": {
    "name": "ipython",
    "version": 3
   },
   "file_extension": ".py",
   "mimetype": "text/x-python",
   "name": "python",
   "nbconvert_exporter": "python",
   "pygments_lexer": "ipython3",
   "version": "3.8.8"
  }
 },
 "nbformat": 4,
 "nbformat_minor": 5
}
